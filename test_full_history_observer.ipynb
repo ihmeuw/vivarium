{
 "cells": [
  {
   "cell_type": "code",
   "id": "initial_id",
   "metadata": {
    "collapsed": true,
    "ExecuteTime": {
     "end_time": "2024-08-30T21:45:12.877046Z",
     "start_time": "2024-08-30T21:45:11.536444Z"
    }
   },
   "source": [
    "import numpy as np\n",
    "import pandas as pd\n",
    "import scipy.sparse as sparse\n",
    "\n",
    "from vivarium import InteractiveContext\n",
    "from vivarium.framework.engine import SimulationContext"
   ],
   "outputs": [],
   "execution_count": 1
  },
  {
   "metadata": {},
   "cell_type": "code",
   "source": [
    "# sim = InteractiveContext(\"src/vivarium/examples/disease_model/disease_model.yaml\")\n",
    "# pop = sim.get_population()\n",
    "# pop"
   ],
   "id": "6ea5fcef7f39a5c6",
   "outputs": [],
   "execution_count": null
  },
  {
   "metadata": {},
   "cell_type": "code",
   "source": [
    "sim = SimulationContext(\"src/vivarium/examples/disease_model/disease_model.yaml\")\n",
    "sim.run_simulation()"
   ],
   "id": "2bf6a209e9f5c3b3",
   "outputs": [],
   "execution_count": null
  },
  {
   "metadata": {
    "ExecuteTime": {
     "end_time": "2024-08-30T21:45:31.241139Z",
     "start_time": "2024-08-30T21:45:30.560800Z"
    }
   },
   "cell_type": "code",
   "source": "diffs = sparse.load_npz(\"/home/rmudambi/scratch/test-sim/changes.npz\")",
   "id": "57ebf1978d5ed680",
   "outputs": [],
   "execution_count": 2
  },
  {
   "metadata": {
    "ExecuteTime": {
     "end_time": "2024-08-30T21:45:32.261225Z",
     "start_time": "2024-08-30T21:45:32.256331Z"
    }
   },
   "cell_type": "code",
   "source": "diffs.nnz",
   "id": "2537e494c09ee195",
   "outputs": [
    {
     "data": {
      "text/plain": [
       "17812872"
      ]
     },
     "execution_count": 3,
     "metadata": {},
     "output_type": "execute_result"
    }
   ],
   "execution_count": 3
  },
  {
   "metadata": {
    "ExecuteTime": {
     "end_time": "2024-08-30T21:45:34.226482Z",
     "start_time": "2024-08-30T21:45:34.221399Z"
    }
   },
   "cell_type": "code",
   "source": "diffs.shape",
   "id": "be143679af70af92",
   "outputs": [
    {
     "data": {
      "text/plain": [
       "(100000, 1246)"
      ]
     },
     "execution_count": 4,
     "metadata": {},
     "output_type": "execute_result"
    }
   ],
   "execution_count": 4
  },
  {
   "metadata": {
    "ExecuteTime": {
     "end_time": "2024-08-30T21:46:19.441159Z",
     "start_time": "2024-08-30T21:46:19.432581Z"
    }
   },
   "cell_type": "code",
   "source": "diffs.nnz / (diffs.shape[0] * diffs.shape[1])",
   "id": "d4ecf3c5d68f8e06",
   "outputs": [
    {
     "data": {
      "text/plain": [
       "0.14296044943820224"
      ]
     },
     "execution_count": 5,
     "metadata": {},
     "output_type": "execute_result"
    }
   ],
   "execution_count": 5
  },
  {
   "metadata": {},
   "cell_type": "code",
   "source": [
    "df = pd.DataFrame({\"a\": [1, 2, 0, 0, 0], \"b\": [3, 0, 0, 0, 4], \"c\": [3, 0, 0, 0, 4]})\n",
    "df = df.set_index(\"c\")\n",
    "df"
   ],
   "id": "349efb7022adf5aa",
   "outputs": [],
   "execution_count": null
  },
  {
   "metadata": {},
   "cell_type": "code",
   "source": "df.reset_index().set_index([\"a\", \"c\"])",
   "id": "4d0a69643384e7bd",
   "outputs": [],
   "execution_count": null
  },
  {
   "metadata": {
    "ExecuteTime": {
     "end_time": "2024-08-30T22:26:31.130439Z",
     "start_time": "2024-08-30T22:26:31.119371Z"
    }
   },
   "cell_type": "code",
   "source": [
    "sparse_array = np.random.randn(10, 10)\n",
    "ps =  np.random.randn(10, 10)\n",
    "sparse_array[ps < 0.8] = 0.0\n",
    "sparse_array"
   ],
   "id": "195a7bfed34b9135",
   "outputs": [
    {
     "data": {
      "text/plain": [
       "array([[ 0.        ,  0.        , -0.49518483,  0.        ,  0.        ,\n",
       "         0.29983084,  0.        ,  0.        ,  0.        ,  1.07575425],\n",
       "       [ 0.        , -2.0190841 ,  1.88545859,  0.        ,  0.        ,\n",
       "         0.        ,  0.        ,  0.        ,  0.        , -1.30688779],\n",
       "       [ 0.        ,  0.        ,  0.        ,  0.        ,  0.        ,\n",
       "         0.31258946,  0.        ,  0.        ,  0.28578152,  0.        ],\n",
       "       [ 0.        ,  0.        ,  0.        ,  0.        ,  0.        ,\n",
       "         0.        ,  0.        ,  0.        , -0.24728358,  0.        ],\n",
       "       [ 0.        , -1.70747576,  0.        ,  0.        ,  0.        ,\n",
       "         0.        ,  0.78966216,  2.40521547, -0.94330458,  0.96191475],\n",
       "       [ 0.        ,  0.        ,  0.        ,  0.        ,  0.        ,\n",
       "         0.        ,  1.08896373,  1.28943061,  0.        ,  0.        ],\n",
       "       [ 0.        ,  0.        ,  0.        ,  0.        ,  0.        ,\n",
       "         0.        ,  0.        ,  0.        ,  0.        ,  0.        ],\n",
       "       [ 0.        ,  0.        ,  0.        ,  0.        ,  0.        ,\n",
       "        -0.78578037,  0.        ,  0.        ,  0.        ,  0.        ],\n",
       "       [ 0.        ,  0.        ,  0.        ,  0.        ,  0.        ,\n",
       "         0.        ,  0.        ,  0.        ,  0.        ,  0.84510272],\n",
       "       [ 0.        ,  0.        ,  0.        ,  0.        ,  0.        ,\n",
       "         0.        ,  0.        ,  0.40011665,  0.        ,  0.        ]])"
      ]
     },
     "execution_count": 30,
     "metadata": {},
     "output_type": "execute_result"
    }
   ],
   "execution_count": 30
  },
  {
   "metadata": {
    "ExecuteTime": {
     "end_time": "2024-08-30T22:27:47.696243Z",
     "start_time": "2024-08-30T22:27:47.691866Z"
    }
   },
   "cell_type": "code",
   "source": [
    "df = pd.DataFrame(sparse_array)\n",
    "df2 = df.copy()\n",
    "df2.loc[0,1] = np.nan\n",
    "\n",
    "sparse.csc_array(df.to_numpy()).nnz"
   ],
   "id": "ed611d0875fd06a",
   "outputs": [
    {
     "data": {
      "text/plain": [
       "19"
      ]
     },
     "execution_count": 32,
     "metadata": {},
     "output_type": "execute_result"
    }
   ],
   "execution_count": 32
  },
  {
   "metadata": {
    "ExecuteTime": {
     "end_time": "2024-08-30T22:28:03.199867Z",
     "start_time": "2024-08-30T22:28:03.195900Z"
    }
   },
   "cell_type": "code",
   "source": "sparse.csc_array(df2.to_numpy()).nnz",
   "id": "81e51e263ab070bd",
   "outputs": [
    {
     "data": {
      "text/plain": [
       "20"
      ]
     },
     "execution_count": 33,
     "metadata": {},
     "output_type": "execute_result"
    }
   ],
   "execution_count": 33
  },
  {
   "metadata": {
    "ExecuteTime": {
     "end_time": "2024-08-30T21:46:57.487385Z",
     "start_time": "2024-08-30T21:46:57.482596Z"
    }
   },
   "cell_type": "code",
   "source": [
    "csc = sparse.csc_array(sparse_array)\n",
    "# csc.nnz\n",
    "csc"
   ],
   "id": "39bf35014306db8a",
   "outputs": [
    {
     "data": {
      "text/plain": [
       "<Compressed Sparse Column sparse array of dtype 'float64'\n",
       "\twith 19 stored elements and shape (10, 10)>"
      ]
     },
     "execution_count": 9,
     "metadata": {},
     "output_type": "execute_result"
    }
   ],
   "execution_count": 9
  },
  {
   "metadata": {},
   "cell_type": "code",
   "source": "s2 = csc.copy()",
   "id": "f513b7bfa7423351",
   "outputs": [],
   "execution_count": null
  },
  {
   "metadata": {},
   "cell_type": "code",
   "source": "vstack([csc, s2])",
   "id": "bae5cbfb56e40aaf",
   "outputs": [],
   "execution_count": null
  }
 ],
 "metadata": {
  "kernelspec": {
   "display_name": "Python 3",
   "language": "python",
   "name": "python3"
  },
  "language_info": {
   "codemirror_mode": {
    "name": "ipython",
    "version": 2
   },
   "file_extension": ".py",
   "mimetype": "text/x-python",
   "name": "python",
   "nbconvert_exporter": "python",
   "pygments_lexer": "ipython2",
   "version": "2.7.6"
  }
 },
 "nbformat": 4,
 "nbformat_minor": 5
}
